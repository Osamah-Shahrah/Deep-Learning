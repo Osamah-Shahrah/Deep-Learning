{
 "cells": [
  {
   "cell_type": "code",
   "execution_count": 1,
   "id": "4dc02ce2-117a-498d-898b-172fd21b6740",
   "metadata": {},
   "outputs": [],
   "source": [
    "import tensorflow as tf\n",
    "import matplotlib.pyplot as plt\n",
    "mnist=tf.keras.datasets.mnist \n",
    "(x_train,y_train),(x_test,y_test)=mnist.load_data()\n",
    "#print(x_train)\n",
    "x_train=x_train/255\n",
    "x_test=x_test/255\n"
   ]
  },
  {
   "cell_type": "code",
   "execution_count": 3,
   "id": "83e32e52-9187-4fce-a59a-580a982cbdfc",
   "metadata": {},
   "outputs": [
    {
     "name": "stdout",
     "output_type": "stream",
     "text": [
      "Epoch 1/3\n",
      "1875/1875 [==============================] - 9s 4ms/step - loss: 0.2288 - accuracy: 0.9326\n",
      "Epoch 2/3\n",
      "1875/1875 [==============================] - 8s 4ms/step - loss: 0.0955 - accuracy: 0.9704\n",
      "Epoch 3/3\n",
      "1875/1875 [==============================] - 8s 4ms/step - loss: 0.0678 - accuracy: 0.9788\n"
     ]
    },
    {
     "data": {
      "text/plain": [
       "<keras.callbacks.History at 0x23cf2fc1e70>"
      ]
     },
     "execution_count": 3,
     "metadata": {},
     "output_type": "execute_result"
    }
   ],
   "source": [
    "model=tf.keras.models.Sequential()\n",
    "model.add(tf.keras.layers.Flatten())\n",
    "model.add(tf.keras.layers.Dense(128,activation=tf.nn.relu))\n",
    "model.add(tf.keras.layers.Flatten())\n",
    "model.add(tf.keras.layers.Dense(128,activation=tf.nn.relu))\n",
    "model.add(tf.keras.layers.Flatten())\n",
    "model.add(tf.keras.layers.Dense(10,activation=tf.nn.softmax))\n",
    "\n",
    "\n",
    "model.compile(optimizer='adam',\n",
    "              loss='sparse_categorical_crossentropy',\n",
    "              metrics=['accuracy'])\n",
    "model.fit(x_train,y_train,epochs=3)\n",
    "            "
   ]
  },
  {
   "cell_type": "code",
   "execution_count": 5,
   "id": "b8ce0bed-46e3-4fce-832b-7cd85392d578",
   "metadata": {},
   "outputs": [],
   "source": [
    "#plt.imshow(x_train[2],cmap=plt.cm.binary)\n",
    "#plt.show()"
   ]
  },
  {
   "cell_type": "code",
   "execution_count": 7,
   "id": "59da6885-3c5c-4460-9132-b08e57b3765d",
   "metadata": {},
   "outputs": [
    {
     "name": "stdout",
     "output_type": "stream",
     "text": [
      "313/313 [==============================] - 1s 3ms/step - loss: 0.0772 - accuracy: 0.9775\n",
      "0.07724326848983765 0.9775000214576721\n"
     ]
    }
   ],
   "source": [
    "val_loss,val_acc=model.evaluate(x_test,y_test)\n",
    "print(val_loss,val_acc)"
   ]
  },
  {
   "cell_type": "code",
   "execution_count": 9,
   "id": "c1fc60f1-e7bc-4685-baa8-7f55b2ab074a",
   "metadata": {},
   "outputs": [
    {
     "name": "stdout",
     "output_type": "stream",
     "text": [
      "INFO:tensorflow:Assets written to: my_frist_model_deep\\assets\n"
     ]
    }
   ],
   "source": [
    "model.save('my_frist_model_deep')"
   ]
  },
  {
   "cell_type": "code",
   "execution_count": 10,
   "id": "e4db3893-b838-4fa6-9636-af91d3d56ba6",
   "metadata": {},
   "outputs": [
    {
     "name": "stdout",
     "output_type": "stream",
     "text": [
      "313/313 [==============================] - 1s 3ms/step\n"
     ]
    }
   ],
   "source": [
    "prediction=model.predict(x_test)"
   ]
  },
  {
   "cell_type": "code",
   "execution_count": 13,
   "id": "fbd958cc-87fb-4ae7-9c24-90a81214eba6",
   "metadata": {},
   "outputs": [
    {
     "name": "stdout",
     "output_type": "stream",
     "text": [
      "[[1.0936750e-06 2.9739928e-07 1.5808502e-05 ... 9.9996704e-01\n",
      "  8.4759068e-07 7.0377700e-06]\n",
      " [1.1745893e-06 2.6462309e-04 9.9972391e-01 ... 7.5188933e-10\n",
      "  7.8819066e-06 4.1038103e-10]\n",
      " [3.6033637e-06 9.9937361e-01 3.1680221e-04 ... 1.7499420e-04\n",
      "  7.5841490e-05 3.3272952e-06]\n",
      " ...\n",
      " [1.2287851e-10 1.0633353e-07 1.0323114e-08 ... 7.5818834e-06\n",
      "  1.3909927e-07 4.1855214e-06]\n",
      " [1.0521010e-09 3.7093264e-09 6.9711104e-09 ... 2.4588580e-08\n",
      "  6.2278748e-05 9.8251425e-09]\n",
      " [1.6463900e-08 1.1567622e-11 1.9438209e-09 ... 6.0202024e-11\n",
      "  3.9103327e-07 1.5374388e-10]]\n"
     ]
    }
   ],
   "source": [
    "print(prediction)"
   ]
  },
  {
   "cell_type": "code",
   "execution_count": 15,
   "id": "98741dfb-f845-434e-ae86-55cd9e709456",
   "metadata": {},
   "outputs": [
    {
     "name": "stdout",
     "output_type": "stream",
     "text": [
      "9\n"
     ]
    }
   ],
   "source": [
    "import numpy as np\n",
    "print(np.argmax(prediction[7]))\n"
   ]
  },
  {
   "cell_type": "code",
   "execution_count": 17,
   "id": "f1490f39-afc8-40fc-8aa8-05e5fe3e4e46",
   "metadata": {},
   "outputs": [],
   "source": [
    "#plt.imshow(x_test[7])\n",
    "#plt.show()"
   ]
  },
  {
   "cell_type": "code",
   "execution_count": null,
   "id": "1b0a99d4-a243-4cc7-b596-daa0baf3cc94",
   "metadata": {},
   "outputs": [],
   "source": []
  }
 ],
 "metadata": {
  "kernelspec": {
   "display_name": "Python (tf)",
   "language": "python",
   "name": "tf"
  },
  "language_info": {
   "codemirror_mode": {
    "name": "ipython",
    "version": 3
   },
   "file_extension": ".py",
   "mimetype": "text/x-python",
   "name": "python",
   "nbconvert_exporter": "python",
   "pygments_lexer": "ipython3",
   "version": "3.10.13"
  }
 },
 "nbformat": 4,
 "nbformat_minor": 5
}
