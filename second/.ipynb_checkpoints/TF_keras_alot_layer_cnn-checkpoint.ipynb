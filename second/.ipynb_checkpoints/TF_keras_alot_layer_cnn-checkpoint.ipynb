{
 "cells": [
  {
   "cell_type": "code",
   "execution_count": 5,
   "id": "485b20e3-9493-4b0e-94a7-672dda425915",
   "metadata": {},
   "outputs": [],
   "source": [
    "import tensorflow as tf\n",
    "from tensorflow.keras.models import Sequential\n",
    "from tensorflow.keras.layers import Dense, Conv2D, Flatten, MaxPooling2D\n",
    "from tensorflow.keras.datasets import mnist\n",
    "from tensorflow.keras.utils import to_categorical\n",
    "#TensorFlow و Keras: مكتبات لتعلم الآلة.\n",
    "\n",
    "#Sequential: لإنشاء نموذج خطي.\n",
    "\n",
    "#Dense, Conv2D, Flatten, MaxPooling2D: لإنشاء طبقات الشبكة العصبية.\n",
    "\n",
    "#mnist: مجموعة بيانات الصور الشهيرة.\n",
    "\n",
    "#to_categorical: لتحويل الفئات إلى تصنيف ثنائي."
   ]
  },
  {
   "cell_type": "code",
   "execution_count": 7,
   "id": "053fb32f-97c7-45ed-b60d-0456004858c9",
   "metadata": {},
   "outputs": [],
   "source": [
    "(x_train, y_train), (x_test, y_test) = mnist.load_data()\n",
    "x_train = x_train.reshape(-1, 28, 28, 1)\n",
    "x_test = x_test.reshape(-1, 28, 28, 1)\n",
    "x_train, x_test = x_train / 255.0, x_test / 255.0\n",
    "y_train = to_categorical(y_train)\n",
    "y_test = to_categorical(y_test)\n",
    "\n",
    "#mnist.load_data(): تحميل البيانات وتقسيمها إلى مجموعة تدريب واختبار.\n",
    "\n",
    "#reshape: تعديل الأبعاد لتتناسب مع مدخلات النموذج.\n",
    "\n",
    "#/ 255.0: تحويل القيم لتكون بين 0 و1 (التطبيع).\n",
    "\n",
    "#to_categorical: تحويل الفئات إلى تنسيق ثنائي."
   ]
  },
  {
   "cell_type": "code",
   "execution_count": 9,
   "id": "bf4476a2-e4c5-4876-913a-01e9c1d5ee9e",
   "metadata": {},
   "outputs": [],
   "source": [
    "model = Sequential([\n",
    "    Conv2D(32, (3, 3), activation='relu', input_shape=(28, 28, 1)),\n",
    "    MaxPooling2D((2, 2)),\n",
    "    Flatten(),\n",
    "    Dense(128, activation='relu'),\n",
    "    Dense(10, activation='softmax')\n",
    "])\n",
    "#Conv2D: طبقة الالتفاف مع 32 فلاتر وحجم 3x3.\n",
    "\n",
    "#MaxPooling2D: تقليل الأبعاد المكانية.\n",
    "\n",
    "#Flatten: تحويل البيانات إلى بُعد واحد.\n",
    "\n",
    "#Dense: طبقة كاملة الربط. الأولى مع 128 وحدة، والأخيرة مع 10 وحدات (للخروج)."
   ]
  },
  {
   "cell_type": "code",
   "execution_count": 11,
   "id": "d505bd0a-1556-4813-8356-087df0bc6d7b",
   "metadata": {},
   "outputs": [],
   "source": [
    "model.compile(optimizer='adam', loss='categorical_crossentropy', metrics=['accuracy'])\n",
    "#optimizer='adam': خوارزمية تحسين آدم.\n",
    "\n",
    "#loss='categorical_crossentropy': دالة الخسارة لتصنيف متعدد الفئات.\n",
    "\n",
    "#metrics=['accuracy']: قياس الدقة."
   ]
  },
  {
   "cell_type": "code",
   "execution_count": 27,
   "id": "872b55c3-1bb7-45a6-bfca-1c9c579629e9",
   "metadata": {},
   "outputs": [
    {
     "name": "stdout",
     "output_type": "stream",
     "text": [
      "1875/1875 [==============================] - 55s 29ms/step - loss: 0.0045 - accuracy: 0.9983 - val_loss: 0.0541 - val_accuracy: 0.9872\n"
     ]
    }
   ],
   "source": [
    "history = model.fit(x_train, y_train, epochs=10, batch_size=32, validation_data=(x_test, y_test))\n",
    "\n",
    "#fit: تدريب النموذج باستخدام بيانات التدريب.\n",
    "\n",
    "#epochs=10: عدد الدورات التدريبية.\n",
    "\n",
    "#batch_size=32: حجم الدفعة.\n",
    "\n",
    "#validation_data: استخدام بيانات الاختبار للتحقق من الأداء."
   ]
  },
  {
   "cell_type": "code",
   "execution_count": 17,
   "id": "9420e6a5-2225-4205-b656-309ed4a4b098",
   "metadata": {},
   "outputs": [],
   "source": [
    "model.save('my_scond_model_deep_in_cnn.h5')"
   ]
  },
  {
   "cell_type": "code",
   "execution_count": 19,
   "id": "fe782096-de4a-40a5-8882-3db94cd6f7d1",
   "metadata": {},
   "outputs": [
    {
     "name": "stdout",
     "output_type": "stream",
     "text": [
      "313/313 - 1s - loss: 0.0489 - accuracy: 0.9879 - 625ms/epoch - 2ms/step\n",
      "Test accuracy: 0.9879000186920166\n"
     ]
    }
   ],
   "source": [
    "test_loss, test_acc = model.evaluate(x_test, y_test, verbose=2)\n",
    "print(f'Test accuracy: {test_acc}')\n",
    "#evaluate: تقييم الأداء على بيانات الاختبار.\n",
    "\n",
    "#print: طباعة الدقة."
   ]
  },
  {
   "cell_type": "code",
   "execution_count": 23,
   "id": "ed37c9dc-b66c-45fa-994a-49212db7175f",
   "metadata": {},
   "outputs": [
    {
     "name": "stdout",
     "output_type": "stream",
     "text": [
      "313/313 - 1s - loss: 0.0489 - accuracy: 0.9879 - 735ms/epoch - 2ms/step\n",
      "Test accuracy: 0.9879000186920166\n"
     ]
    }
   ],
   "source": [
    "#for load the model\n",
    "\n",
    "\n",
    "#from tensorflow.keras.models import load_model\n",
    "\n",
    "# تحميل النموذج\n",
    "#loaded_model = load_model('my_scond_model_deep_in_cnn.h5')\n",
    "\n",
    "# تقييم النموذج المحمل\n",
    "#test_loss, test_acc = loaded_model.evaluate(x_test, y_test, verbose=2)\n",
    "#print(f'Test accuracy: {test_acc}')\n"
   ]
  },
  {
   "cell_type": "code",
   "execution_count": 1,
   "id": "634d335e-94a3-4c17-87cc-58590edf1014",
   "metadata": {},
   "outputs": [
    {
     "ename": "NameError",
     "evalue": "name 'history' is not defined",
     "output_type": "error",
     "traceback": [
      "\u001b[1;31m---------------------------------------------------------------------------\u001b[0m",
      "\u001b[1;31mNameError\u001b[0m                                 Traceback (most recent call last)",
      "Cell \u001b[1;32mIn[1], line 5\u001b[0m\n\u001b[0;32m      2\u001b[0m \u001b[38;5;28;01mimport\u001b[39;00m \u001b[38;5;21;01mmatplotlib\u001b[39;00m\u001b[38;5;21;01m.\u001b[39;00m\u001b[38;5;21;01mpyplot\u001b[39;00m \u001b[38;5;28;01mas\u001b[39;00m \u001b[38;5;21;01mplt\u001b[39;00m\n\u001b[0;32m      4\u001b[0m \u001b[38;5;66;03m# رسم خسارة التدريب والتحقق\u001b[39;00m\n\u001b[1;32m----> 5\u001b[0m plt\u001b[38;5;241m.\u001b[39mplot(\u001b[43mhistory\u001b[49m\u001b[38;5;241m.\u001b[39mhistory[\u001b[38;5;124m'\u001b[39m\u001b[38;5;124mloss\u001b[39m\u001b[38;5;124m'\u001b[39m], label\u001b[38;5;241m=\u001b[39m\u001b[38;5;124m'\u001b[39m\u001b[38;5;124mTraining Loss\u001b[39m\u001b[38;5;124m'\u001b[39m)\n\u001b[0;32m      6\u001b[0m plt\u001b[38;5;241m.\u001b[39mplot(history\u001b[38;5;241m.\u001b[39mhistory[\u001b[38;5;124m'\u001b[39m\u001b[38;5;124mval_loss\u001b[39m\u001b[38;5;124m'\u001b[39m], label\u001b[38;5;241m=\u001b[39m\u001b[38;5;124m'\u001b[39m\u001b[38;5;124mValidation Loss\u001b[39m\u001b[38;5;124m'\u001b[39m)\n",
      "\u001b[1;31mNameError\u001b[0m: name 'history' is not defined"
     ]
    }
   ],
   "source": [
    "# تحليل السجل\n",
    "import matplotlib.pyplot as plt\n",
    "\n",
    "# رسم خسارة التدريب والتحقق\n",
    "plt.plot(history.history['loss'], label='Training Loss')\n",
    "plt.plot(history.history['val_loss'], label='Validation Loss')\n",
    "plt.legend()\n",
    "plt.show()\n",
    "\n"
   ]
  },
  {
   "cell_type": "code",
   "execution_count": null,
   "id": "4f9bbd7d-ee87-481b-8223-51b5974417e8",
   "metadata": {},
   "outputs": [],
   "source": [
    "\n",
    "# رسم دقة التدريب والتحقق\n",
    "plt.plot(history.history['accuracy'], label='Training Accuracy')\n",
    "plt.plot(history.history['val_accuracy'], label='Validation Accuracy')\n",
    "plt.legend()\n",
    "plt.show()"
   ]
  }
 ],
 "metadata": {
  "kernelspec": {
   "display_name": "Python (tf)",
   "language": "python",
   "name": "tf"
  },
  "language_info": {
   "codemirror_mode": {
    "name": "ipython",
    "version": 3
   },
   "file_extension": ".py",
   "mimetype": "text/x-python",
   "name": "python",
   "nbconvert_exporter": "python",
   "pygments_lexer": "ipython3",
   "version": "3.10.13"
  }
 },
 "nbformat": 4,
 "nbformat_minor": 5
}
