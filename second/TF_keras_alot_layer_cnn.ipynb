{
 "cells": [
  {
   "cell_type": "code",
   "execution_count": 28,
   "id": "485b20e3-9493-4b0e-94a7-672dda425915",
   "metadata": {},
   "outputs": [],
   "source": [
    "import tensorflow as tf\n",
    "from keras.models import Sequential\n",
    "from keras.layers import Dense, Conv2D, Flatten, MaxPooling2D\n",
    "from keras.datasets import mnist\n",
    "from keras.utils import to_categorical\n",
    "#tf و Keras: مكتبات لتعلم الآلة.\n",
    "\n",
    "#Sequential: لإنشاء نموذج خطي.\n",
    "\n",
    "#Dense, Conv2D, Flatten, MaxPooling2D: لإنشاء طبقات الشبكة العصبية.\n",
    "\n",
    "#mnist: مجموعة بيانات الصور الشهيرة.\n",
    "\n",
    "#to_categorical: لتحويل الفئات إلى تصنيف ثنائي."
   ]
  },
  {
   "cell_type": "code",
   "execution_count": 29,
   "id": "053fb32f-97c7-45ed-b60d-0456004858c9",
   "metadata": {},
   "outputs": [],
   "source": [
    "(x_train, y_train), (x_test, y_test) = mnist.load_data()\n",
    "x_train = x_train.reshape(-1, 28, 28, 1)\n",
    "x_test = x_test.reshape(-1, 28, 28, 1)\n",
    "x_train, x_test = x_train / 255.0, x_test / 255.0\n",
    "y_train = to_categorical(y_train)\n",
    "y_test = to_categorical(y_test)\n",
    "\n",
    "#mnist.load_data(): تحميل البيانات وتقسيمها إلى مجموعة تدريب واختبار.\n",
    "\n",
    "#reshape: تعديل الأبعاد لتتناسب مع مدخلات النموذج.\n",
    "\n",
    "#/ 255.0: تحويل القيم لتكون بين 0 و1 (التطبيع).\n",
    "\n",
    "#to_categorical: تحويل الفئات إلى تنسيق ثنائي."
   ]
  },
  {
   "cell_type": "code",
   "execution_count": 30,
   "id": "bf4476a2-e4c5-4876-913a-01e9c1d5ee9e",
   "metadata": {},
   "outputs": [],
   "source": [
    "model = Sequential([\n",
    "    Conv2D(32, (3, 3), activation='relu', input_shape=(28, 28, 1)),\n",
    "    MaxPooling2D((2, 2)),\n",
    "    Flatten(),\n",
    "    Dense(128, activation='relu'),\n",
    "    Dense(10, activation='softmax')\n",
    "])\n",
    "#Conv2D: طبقة الالتفاف مع 32 فلاتر وحجم 3x3.\n",
    "\n",
    "#MaxPooling2D: تقليل الأبعاد المكانية.\n",
    "\n",
    "#Flatten: تحويل البيانات إلى بُعد واحد.\n",
    "\n",
    "#Dense: طبقة كاملة الربط. الأولى مع 128 وحدة، والأخيرة مع 10 وحدات (للخروج)."
   ]
  },
  {
   "cell_type": "code",
   "execution_count": 31,
   "id": "d505bd0a-1556-4813-8356-087df0bc6d7b",
   "metadata": {},
   "outputs": [],
   "source": [
    "model.compile(optimizer='adam', loss='categorical_crossentropy', metrics=['accuracy'])\n",
    "#optimizer='adam': خوارزمية تحسين آدم.\n",
    "\n",
    "#loss='categorical_crossentropy': دالة الخسارة لتصنيف متعدد الفئات.\n",
    "\n",
    "#metrics=['accuracy']: قياس الدقة."
   ]
  },
  {
   "cell_type": "code",
   "execution_count": 32,
   "id": "872b55c3-1bb7-45a6-bfca-1c9c579629e9",
   "metadata": {},
   "outputs": [
    {
     "name": "stdout",
     "output_type": "stream",
     "text": [
      "1875/1875 [==============================] - 50s 26ms/step - loss: 0.1536 - accuracy: 0.9546 - val_loss: 0.0635 - val_accuracy: 0.9791\n"
     ]
    }
   ],
   "source": [
    "history = model.fit(x_train, y_train, epochs=1, batch_size=32, validation_data=(x_test, y_test))\n",
    "\n",
    "#fit: تدريب النموذج باستخدام بيانات التدريب.\n",
    "\n",
    "#epochs=10: عدد الدورات التدريبية.\n",
    "\n",
    "#batch_size=32: حجم الدفعة.\n",
    "\n",
    "#validation_data: استخدام بيانات الاختبار للتحقق من الأداء."
   ]
  },
  {
   "cell_type": "code",
   "execution_count": 33,
   "id": "9420e6a5-2225-4205-b656-309ed4a4b098",
   "metadata": {},
   "outputs": [],
   "source": [
    "#model.save('my_scond_model_deep_in_cnn.h5')"
   ]
  },
  {
   "cell_type": "code",
   "execution_count": 34,
   "id": "fe782096-de4a-40a5-8882-3db94cd6f7d1",
   "metadata": {},
   "outputs": [
    {
     "name": "stdout",
     "output_type": "stream",
     "text": [
      "313/313 - 1s - loss: 0.0635 - accuracy: 0.9791 - 684ms/epoch - 2ms/step\n",
      "Test accuracy: 0.9790999889373779\n"
     ]
    }
   ],
   "source": [
    "test_loss, test_acc = model.evaluate(x_test, y_test, verbose=2)\n",
    "print(f'Test accuracy: {test_acc}')\n",
    "#evaluate: تقييم الأداء على بيانات الاختبار.\n",
    "\n",
    "#print: طباعة الدقة."
   ]
  },
  {
   "cell_type": "code",
   "execution_count": null,
   "id": "ed37c9dc-b66c-45fa-994a-49212db7175f",
   "metadata": {},
   "outputs": [
    {
     "ename": "",
     "evalue": "",
     "output_type": "error",
     "traceback": [
      "\u001b[1;31mThe Kernel crashed while executing code in the current cell or a previous cell. \n",
      "\u001b[1;31mPlease review the code in the cell(s) to identify a possible cause of the failure. \n",
      "\u001b[1;31mClick <a href='https://aka.ms/vscodeJupyterKernelCrash'>here</a> for more info. \n",
      "\u001b[1;31mView Jupyter <a href='command:jupyter.viewOutput'>log</a> for further details."
     ]
    }
   ],
   "source": [
    "#for load the model\n",
    "\n",
    "\n",
    "#from keras.models import load_model\n",
    "\n",
    "# تحميل النموذج\n",
    "#loaded_model = load_model('my_scond_model_deep_in_cnn.h5')\n",
    "\n",
    "# تقييم النموذج المحمل\n",
    "#test_loss, test_acc = loaded_model.evaluate(x_test, y_test, verbose=2)\n",
    "#print(f'Test accuracy: {test_acc}')\n"
   ]
  },
  {
   "cell_type": "code",
   "execution_count": null,
   "id": "634d335e-94a3-4c17-87cc-58590edf1014",
   "metadata": {},
   "outputs": [],
   "source": [
    "# تحليل السجل\n",
    "import matplotlib.pyplot as plt\n",
    "\n",
    "# رسم خسارة التدريب والتحقق\n",
    "plt.plot(history.history['loss'], label='Training Loss')\n",
    "plt.plot(history.history['val_loss'], label='Validation Loss')\n",
    "plt.legend()\n",
    "plt.show()\n",
    "\n"
   ]
  },
  {
   "cell_type": "code",
   "execution_count": null,
   "id": "4f9bbd7d-ee87-481b-8223-51b5974417e8",
   "metadata": {},
   "outputs": [],
   "source": [
    "\n",
    "# رسم دقة التدريب والتحقق\n",
    "plt.plot(history.history['accuracy'], label='Training Accuracy')\n",
    "plt.plot(history.history['val_accuracy'], label='Validation Accuracy')\n",
    "plt.legend()\n",
    "plt.show()"
   ]
  }
 ],
 "metadata": {
  "kernelspec": {
   "display_name": "tf",
   "language": "python",
   "name": "python3"
  },
  "language_info": {
   "codemirror_mode": {
    "name": "ipython",
    "version": 3
   },
   "file_extension": ".py",
   "mimetype": "text/x-python",
   "name": "python",
   "nbconvert_exporter": "python",
   "pygments_lexer": "ipython3",
   "version": "3.10.13"
  }
 },
 "nbformat": 4,
 "nbformat_minor": 5
}
